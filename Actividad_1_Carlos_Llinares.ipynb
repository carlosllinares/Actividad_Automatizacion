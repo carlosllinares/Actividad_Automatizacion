{
 "cells": [
  {
   "cell_type": "code",
   "execution_count": 1,
   "id": "27f656f3",
   "metadata": {},
   "outputs": [],
   "source": [
    "import pandas as pd\n",
    "import numpy as np\n",
    "import seaborn as sns\n",
    "import matplotlib.pyplot as plt\n",
    "import openpyxl"
   ]
  },
  {
   "cell_type": "markdown",
   "id": "00c92479",
   "metadata": {},
   "source": [
    "# ETL:\n",
    "## Extracción de datos de archivo Excel"
   ]
  },
  {
   "cell_type": "code",
   "execution_count": 2,
   "id": "cb90c71c",
   "metadata": {
    "lines_to_next_cell": 0
   },
   "outputs": [
    {
     "data": {
      "text/html": [
       "<div>\n",
       "<style scoped>\n",
       "    .dataframe tbody tr th:only-of-type {\n",
       "        vertical-align: middle;\n",
       "    }\n",
       "\n",
       "    .dataframe tbody tr th {\n",
       "        vertical-align: top;\n",
       "    }\n",
       "\n",
       "    .dataframe thead th {\n",
       "        text-align: right;\n",
       "    }\n",
       "</style>\n",
       "<table border=\"1\" class=\"dataframe\">\n",
       "  <thead>\n",
       "    <tr style=\"text-align: right;\">\n",
       "      <th></th>\n",
       "      <th>ID_Motor</th>\n",
       "      <th>Temperatura_C</th>\n",
       "      <th>Vibracion_mms</th>\n",
       "      <th>Presion_bar</th>\n",
       "      <th>Humedad_%</th>\n",
       "      <th>Horas_funcionamiento</th>\n",
       "      <th>Fallo_detectado</th>\n",
       "    </tr>\n",
       "  </thead>\n",
       "  <tbody>\n",
       "    <tr>\n",
       "      <th>0</th>\n",
       "      <td>Motor_1</td>\n",
       "      <td>67.48</td>\n",
       "      <td>1.96</td>\n",
       "      <td>5.35</td>\n",
       "      <td>58.63</td>\n",
       "      <td>43</td>\n",
       "      <td>0</td>\n",
       "    </tr>\n",
       "    <tr>\n",
       "      <th>1</th>\n",
       "      <td>Motor_1</td>\n",
       "      <td>67.49</td>\n",
       "      <td>1.96</td>\n",
       "      <td>5.28</td>\n",
       "      <td>58.16</td>\n",
       "      <td>71</td>\n",
       "      <td>0</td>\n",
       "    </tr>\n",
       "    <tr>\n",
       "      <th>2</th>\n",
       "      <td>Motor_1</td>\n",
       "      <td>67.52</td>\n",
       "      <td>1.96</td>\n",
       "      <td>5.15</td>\n",
       "      <td>57.05</td>\n",
       "      <td>96</td>\n",
       "      <td>0</td>\n",
       "    </tr>\n",
       "    <tr>\n",
       "      <th>3</th>\n",
       "      <td>Motor_1</td>\n",
       "      <td>67.57</td>\n",
       "      <td>1.96</td>\n",
       "      <td>5.35</td>\n",
       "      <td>56.85</td>\n",
       "      <td>142</td>\n",
       "      <td>0</td>\n",
       "    </tr>\n",
       "    <tr>\n",
       "      <th>4</th>\n",
       "      <td>Motor_1</td>\n",
       "      <td>67.57</td>\n",
       "      <td>1.96</td>\n",
       "      <td>5.21</td>\n",
       "      <td>57.99</td>\n",
       "      <td>190</td>\n",
       "      <td>0</td>\n",
       "    </tr>\n",
       "    <tr>\n",
       "      <th>...</th>\n",
       "      <td>...</td>\n",
       "      <td>...</td>\n",
       "      <td>...</td>\n",
       "      <td>...</td>\n",
       "      <td>...</td>\n",
       "      <td>...</td>\n",
       "      <td>...</td>\n",
       "    </tr>\n",
       "    <tr>\n",
       "      <th>2495</th>\n",
       "      <td>Motor_5</td>\n",
       "      <td>71.80</td>\n",
       "      <td>2.55</td>\n",
       "      <td>5.24</td>\n",
       "      <td>48.91</td>\n",
       "      <td>13599</td>\n",
       "      <td>0</td>\n",
       "    </tr>\n",
       "    <tr>\n",
       "      <th>2496</th>\n",
       "      <td>Motor_5</td>\n",
       "      <td>70.13</td>\n",
       "      <td>2.32</td>\n",
       "      <td>4.93</td>\n",
       "      <td>51.82</td>\n",
       "      <td>13632</td>\n",
       "      <td>0</td>\n",
       "    </tr>\n",
       "    <tr>\n",
       "      <th>2497</th>\n",
       "      <td>Motor_5</td>\n",
       "      <td>69.80</td>\n",
       "      <td>2.04</td>\n",
       "      <td>5.32</td>\n",
       "      <td>50.76</td>\n",
       "      <td>13638</td>\n",
       "      <td>0</td>\n",
       "    </tr>\n",
       "    <tr>\n",
       "      <th>2498</th>\n",
       "      <td>Motor_5</td>\n",
       "      <td>71.65</td>\n",
       "      <td>2.68</td>\n",
       "      <td>5.16</td>\n",
       "      <td>49.96</td>\n",
       "      <td>13673</td>\n",
       "      <td>0</td>\n",
       "    </tr>\n",
       "    <tr>\n",
       "      <th>2499</th>\n",
       "      <td>Motor_5</td>\n",
       "      <td>85.00</td>\n",
       "      <td>4.00</td>\n",
       "      <td>5.20</td>\n",
       "      <td>48.56</td>\n",
       "      <td>13682</td>\n",
       "      <td>1</td>\n",
       "    </tr>\n",
       "  </tbody>\n",
       "</table>\n",
       "<p>2500 rows × 7 columns</p>\n",
       "</div>"
      ],
      "text/plain": [
       "     ID_Motor  Temperatura_C  Vibracion_mms  Presion_bar  Humedad_%  \\\n",
       "0     Motor_1          67.48           1.96         5.35      58.63   \n",
       "1     Motor_1          67.49           1.96         5.28      58.16   \n",
       "2     Motor_1          67.52           1.96         5.15      57.05   \n",
       "3     Motor_1          67.57           1.96         5.35      56.85   \n",
       "4     Motor_1          67.57           1.96         5.21      57.99   \n",
       "...       ...            ...            ...          ...        ...   \n",
       "2495  Motor_5          71.80           2.55         5.24      48.91   \n",
       "2496  Motor_5          70.13           2.32         4.93      51.82   \n",
       "2497  Motor_5          69.80           2.04         5.32      50.76   \n",
       "2498  Motor_5          71.65           2.68         5.16      49.96   \n",
       "2499  Motor_5          85.00           4.00         5.20      48.56   \n",
       "\n",
       "      Horas_funcionamiento  Fallo_detectado  \n",
       "0                       43                0  \n",
       "1                       71                0  \n",
       "2                       96                0  \n",
       "3                      142                0  \n",
       "4                      190                0  \n",
       "...                    ...              ...  \n",
       "2495                 13599                0  \n",
       "2496                 13632                0  \n",
       "2497                 13638                0  \n",
       "2498                 13673                0  \n",
       "2499                 13682                1  \n",
       "\n",
       "[2500 rows x 7 columns]"
      ]
     },
     "execution_count": 2,
     "metadata": {},
     "output_type": "execute_result"
    }
   ],
   "source": [
    "# Importar archivo excel\n",
    "# Ruta del archivo Excel\n",
    "archivo = r'C:\\Users\\carlo\\iCloudDrive\\BI\\9- Tendencias de automatización\\Actividades\\Actividad 1\\Actividad1_datos_mantenimiento_predictivo.xlsx'\n",
    "\n",
    "# Campos\n",
    "columnas = [\n",
    "    'Temperatura_C',\n",
    "    'Vibracion_mms',\n",
    "    'Presion_bar',\n",
    "    'Humedad_%',\n",
    "    'Horas_funcionamiento',\n",
    "    'Fallo_detectado'\n",
    "]\n",
    "\n",
    "# Leer todas las hojas del archivo Excel\n",
    "excel = pd.ExcelFile(archivo)\n",
    "df_list = []\n",
    "\n",
    "for nombre_hoja in excel.sheet_names:\n",
    "    # Leer la hoja\n",
    "    df_hoja = pd.read_excel(archivo, sheet_name=nombre_hoja)\n",
    "    # Filtrar las columnas deseadas\n",
    "    df_hoja = df_hoja[columnas]\n",
    "    # Añadir el nombre de la hoja como columna ID_Motor\n",
    "    df_hoja['ID_Motor'] = nombre_hoja\n",
    "    # Añadir a la lista\n",
    "    df_list.append(df_hoja)\n",
    "\n",
    "# Unificar todo en un solo DataFrame\n",
    "df_final = pd.concat(df_list, ignore_index=True)\n",
    "\n",
    "# Reordenar columnas para que 'ID_Motor' sea la primera\n",
    "cols = ['ID_Motor'] + columnas\n",
    "df = df_final[cols]\n",
    "df_original = df.copy() # lo usaremos más adelante para almacenarlo en la base de datos\n",
    "# Mostrar el DataFrame resultante\n",
    "df"
   ]
  },
  {
   "cell_type": "code",
   "execution_count": 3,
   "id": "7ff9f958",
   "metadata": {
    "lines_to_next_cell": 0
   },
   "outputs": [
    {
     "name": "stdout",
     "output_type": "stream",
     "text": [
      "ID_Motor                Motor_2\n",
      "Temperatura_C             62.17\n",
      "Vibracion_mms              1.69\n",
      "Presion_bar                4.89\n",
      "Humedad_%                 47.09\n",
      "Horas_funcionamiento        855\n",
      "Fallo_detectado               0\n",
      "Name: 530, dtype: object\n"
     ]
    }
   ],
   "source": [
    "print(df.iloc[530])  # Comprobación de que se ha cargado correctamente"
   ]
  },
  {
   "cell_type": "markdown",
   "id": "8d2c4272",
   "metadata": {},
   "source": [
    "# Análisis exploratorio"
   ]
  },
  {
   "cell_type": "code",
   "execution_count": 4,
   "id": "f45ab176",
   "metadata": {
    "lines_to_next_cell": 0
   },
   "outputs": [
    {
     "name": "stdout",
     "output_type": "stream",
     "text": [
      "ID_Motor                 object\n",
      "Temperatura_C           float64\n",
      "Vibracion_mms           float64\n",
      "Presion_bar             float64\n",
      "Humedad_%               float64\n",
      "Horas_funcionamiento      int64\n",
      "Fallo_detectado           int64\n",
      "dtype: object\n"
     ]
    }
   ],
   "source": [
    "# Mostrar tipos de datos del DataFrame\n",
    "print(df.dtypes)"
   ]
  },
  {
   "cell_type": "code",
   "execution_count": 5,
   "id": "b3efe7dc",
   "metadata": {
    "lines_to_next_cell": 0
   },
   "outputs": [
    {
     "name": "stdout",
     "output_type": "stream",
     "text": [
      "['Temperatura_C' 'Vibracion_mms' 'Presion_bar' 'Humedad_%'\n",
      " 'Horas_funcionamiento' 'Fallo_detectado']\n"
     ]
    }
   ],
   "source": [
    "#Variables numéricas\n",
    "df_numeric = df.select_dtypes(include=[np.number])\n",
    "numeric_cols = df_numeric.columns.values\n",
    "print(numeric_cols)"
   ]
  },
  {
   "cell_type": "code",
   "execution_count": 6,
   "id": "f43c3db8",
   "metadata": {
    "lines_to_next_cell": 0
   },
   "outputs": [
    {
     "data": {
      "text/html": [
       "<div>\n",
       "<style scoped>\n",
       "    .dataframe tbody tr th:only-of-type {\n",
       "        vertical-align: middle;\n",
       "    }\n",
       "\n",
       "    .dataframe tbody tr th {\n",
       "        vertical-align: top;\n",
       "    }\n",
       "\n",
       "    .dataframe thead th {\n",
       "        text-align: right;\n",
       "    }\n",
       "</style>\n",
       "<table border=\"1\" class=\"dataframe\">\n",
       "  <thead>\n",
       "    <tr style=\"text-align: right;\">\n",
       "      <th></th>\n",
       "      <th>Temperatura_C</th>\n",
       "      <th>Vibracion_mms</th>\n",
       "      <th>Presion_bar</th>\n",
       "      <th>Humedad_%</th>\n",
       "      <th>Horas_funcionamiento</th>\n",
       "      <th>Fallo_detectado</th>\n",
       "    </tr>\n",
       "  </thead>\n",
       "  <tbody>\n",
       "    <tr>\n",
       "      <th>count</th>\n",
       "      <td>2500.000000</td>\n",
       "      <td>2500.000000</td>\n",
       "      <td>2500.000000</td>\n",
       "      <td>2500.000000</td>\n",
       "      <td>2500.000000</td>\n",
       "      <td>2500.000000</td>\n",
       "    </tr>\n",
       "    <tr>\n",
       "      <th>mean</th>\n",
       "      <td>66.204024</td>\n",
       "      <td>2.352616</td>\n",
       "      <td>5.051512</td>\n",
       "      <td>48.816048</td>\n",
       "      <td>6821.874400</td>\n",
       "      <td>0.010000</td>\n",
       "    </tr>\n",
       "    <tr>\n",
       "      <th>std</th>\n",
       "      <td>7.417133</td>\n",
       "      <td>0.454081</td>\n",
       "      <td>0.206461</td>\n",
       "      <td>5.339058</td>\n",
       "      <td>3923.892799</td>\n",
       "      <td>0.099519</td>\n",
       "    </tr>\n",
       "    <tr>\n",
       "      <th>min</th>\n",
       "      <td>48.890000</td>\n",
       "      <td>1.380000</td>\n",
       "      <td>4.540000</td>\n",
       "      <td>37.990000</td>\n",
       "      <td>13.000000</td>\n",
       "      <td>0.000000</td>\n",
       "    </tr>\n",
       "    <tr>\n",
       "      <th>25%</th>\n",
       "      <td>62.747500</td>\n",
       "      <td>2.040000</td>\n",
       "      <td>4.890000</td>\n",
       "      <td>45.977500</td>\n",
       "      <td>3385.250000</td>\n",
       "      <td>0.000000</td>\n",
       "    </tr>\n",
       "    <tr>\n",
       "      <th>50%</th>\n",
       "      <td>67.650000</td>\n",
       "      <td>2.350000</td>\n",
       "      <td>5.030000</td>\n",
       "      <td>47.945000</td>\n",
       "      <td>6831.500000</td>\n",
       "      <td>0.000000</td>\n",
       "    </tr>\n",
       "    <tr>\n",
       "      <th>75%</th>\n",
       "      <td>71.402500</td>\n",
       "      <td>2.660000</td>\n",
       "      <td>5.210000</td>\n",
       "      <td>51.010000</td>\n",
       "      <td>10232.750000</td>\n",
       "      <td>0.000000</td>\n",
       "    </tr>\n",
       "    <tr>\n",
       "      <th>max</th>\n",
       "      <td>85.000000</td>\n",
       "      <td>4.000000</td>\n",
       "      <td>5.670000</td>\n",
       "      <td>61.470000</td>\n",
       "      <td>13921.000000</td>\n",
       "      <td>1.000000</td>\n",
       "    </tr>\n",
       "  </tbody>\n",
       "</table>\n",
       "</div>"
      ],
      "text/plain": [
       "       Temperatura_C  Vibracion_mms  Presion_bar    Humedad_%  \\\n",
       "count    2500.000000    2500.000000  2500.000000  2500.000000   \n",
       "mean       66.204024       2.352616     5.051512    48.816048   \n",
       "std         7.417133       0.454081     0.206461     5.339058   \n",
       "min        48.890000       1.380000     4.540000    37.990000   \n",
       "25%        62.747500       2.040000     4.890000    45.977500   \n",
       "50%        67.650000       2.350000     5.030000    47.945000   \n",
       "75%        71.402500       2.660000     5.210000    51.010000   \n",
       "max        85.000000       4.000000     5.670000    61.470000   \n",
       "\n",
       "       Horas_funcionamiento  Fallo_detectado  \n",
       "count           2500.000000      2500.000000  \n",
       "mean            6821.874400         0.010000  \n",
       "std             3923.892799         0.099519  \n",
       "min               13.000000         0.000000  \n",
       "25%             3385.250000         0.000000  \n",
       "50%             6831.500000         0.000000  \n",
       "75%            10232.750000         0.000000  \n",
       "max            13921.000000         1.000000  "
      ]
     },
     "execution_count": 6,
     "metadata": {},
     "output_type": "execute_result"
    }
   ],
   "source": [
    "# Descripción estadística de las variables numéricas\n",
    "df_numeric.describe()"
   ]
  },
  {
   "cell_type": "markdown",
   "id": "c5036236",
   "metadata": {},
   "source": [
    "# Datos faltantes"
   ]
  },
  {
   "cell_type": "markdown",
   "id": "cbb38f7e",
   "metadata": {},
   "source": [
    "Antes de tratar valores faltantes, vamos a proceder a su estudio. Primero vamos a ver cuántos registros (filas) tienen valores faltantes."
   ]
  },
  {
   "cell_type": "code",
   "execution_count": 7,
   "id": "9f922a09",
   "metadata": {
    "lines_to_next_cell": 0
   },
   "outputs": [
    {
     "name": "stdout",
     "output_type": "stream",
     "text": [
      "Filas con al menos un dato faltante:\n",
      "Empty DataFrame\n",
      "Columns: [ID_Motor, Temperatura_C, Vibracion_mms, Presion_bar, Humedad_%, Horas_funcionamiento, Fallo_detectado]\n",
      "Index: []\n"
     ]
    }
   ],
   "source": [
    "# DataFrame con filas que tienen al menos un dato faltante\n",
    "df_filas_incompletas = df[df.isnull().any(axis=1)]\n",
    "print(\"Filas con al menos un dato faltante:\")\n",
    "print(df_filas_incompletas)"
   ]
  },
  {
   "cell_type": "markdown",
   "id": "bfb13521",
   "metadata": {},
   "source": [
    "Vemos que no hay valores faltantes. El siguiente código nos lo confirma:"
   ]
  },
  {
   "cell_type": "code",
   "execution_count": 8,
   "id": "4eca2950",
   "metadata": {},
   "outputs": [
    {
     "name": "stdout",
     "output_type": "stream",
     "text": [
      "ID_Motor - 0%\n",
      "Temperatura_C - 0%\n",
      "Vibracion_mms - 0%\n",
      "Presion_bar - 0%\n",
      "Humedad_% - 0%\n",
      "Horas_funcionamiento - 0%\n",
      "Fallo_detectado - 0%\n"
     ]
    }
   ],
   "source": [
    "for col in df.columns:\n",
    "    pct_missing = np.mean(df[col].isnull())\n",
    "    print('{} - {}%'.format(col, round(pct_missing*100)))"
   ]
  },
  {
   "cell_type": "markdown",
   "id": "3079bf80",
   "metadata": {},
   "source": [
    "No hay datos faltantes, así que no se tratarán este tipo de valores."
   ]
  },
  {
   "cell_type": "markdown",
   "id": "031997f5",
   "metadata": {},
   "source": [
    "# Datos atípicos"
   ]
  },
  {
   "cell_type": "markdown",
   "id": "6a10ebd2",
   "metadata": {},
   "source": [
    "Vamos a visualizar los valores, para ver cómo se comportan las distribuciones, y ver si realmente tenemos outliers."
   ]
  },
  {
   "cell_type": "code",
   "execution_count": 9,
   "id": "70bbcb30",
   "metadata": {},
   "outputs": [
    {
     "data": {
      "image/png": "[encoded data removed]",
      "text/plain": [
       "<Figure size 640x480 with 1 Axes>"
      ]
     },
     "metadata": {},
     "output_type": "display_data"
    },
    {
     "data": {
      "image/png": "[encoded data removed]",
      "text/plain": [
       "<Figure size 640x480 with 1 Axes>"
      ]
     },
     "metadata": {},
     "output_type": "display_data"
    },
    {
     "data": {
      "image/png": "[encoded data removed]",
      "text/plain": [
       "<Figure size 640x480 with 1 Axes>"
      ]
     },
     "metadata": {},
     "output_type": "display_data"
    },
    {
     "data": {
      "image/png": "[encoded data removed]",
      "text/plain": [
       "<Figure size 640x480 with 1 Axes>"
      ]
     },
     "metadata": {},
     "output_type": "display_data"
    },
    {
     "data": {
      "image/png": "[encoded data removed]",
      "text/plain": [
       "<Figure size 640x480 with 1 Axes>"
      ]
     },
     "metadata": {},
     "output_type": "display_data"
    },
    {
     "data": {
      "image/png": "[encoded data removed]",
      "text/plain": [
       "<Figure size 640x480 with 1 Axes>"
      ]
     },
     "metadata": {},
     "output_type": "display_data"
    }
   ],
   "source": [
    "for col in df_numeric.columns:\n",
    "    df_numeric[col].hist(bins=100)\n",
    "    plt.title(col)\n",
    "    plt.show()"
   ]
  },
  {
   "cell_type": "markdown",
   "id": "fb932a39",
   "metadata": {},
   "source": [
    "Vamos a ver los gráficos de bigotes en las 4 variables Temperatura_C, Vibracion_mms, Presion_bar, Humedad_%, de esta manera podremos entender mejor la distribución de los atípicos y mejorar la toma de decisiones.\n",
    "Las variables Horas_funcionamiento y Fallo_detectado no presentan atípicos."
   ]
  },
  {
   "cell_type": "code",
   "execution_count": 10,
   "id": "1193f4a4",
   "metadata": {},
   "outputs": [
    {
     "data": {
      "image/png": "[encoded data removed]",
      "text/plain": [
       "<Figure size 640x480 with 1 Axes>"
      ]
     },
     "metadata": {},
     "output_type": "display_data"
    },
    {
     "data": {
      "image/png": "[encoded data removed]",
      "text/plain": [
       "<Figure size 640x480 with 1 Axes>"
      ]
     },
     "metadata": {},
     "output_type": "display_data"
    },
    {
     "data": {
      "image/png": "[encoded data removed]",
      "text/plain": [
       "<Figure size 640x480 with 1 Axes>"
      ]
     },
     "metadata": {},
     "output_type": "display_data"
    },
    {
     "data": {
      "image/png": "[encoded data removed]",
      "text/plain": [
       "<Figure size 640x480 with 1 Axes>"
      ]
     },
     "metadata": {},
     "output_type": "display_data"
    }
   ],
   "source": [
    "for col in ['Temperatura_C', 'Vibracion_mms', 'Presion_bar', 'Humedad_%']:\n",
    "    df_numeric.boxplot(column=[col])\n",
    "    plt.title(col)\n",
    "    plt.show()\n"
   ]
  },
  {
   "cell_type": "markdown",
   "id": "fad8cb22",
   "metadata": {},
   "source": [
    "A la vista de los resultados vamos a ver los valores máximos de cada variable para ver en qué grado son atípicos y si están generando fallos.\n",
    "De esta manera valoraremos si merece la pena actuar sobre los atípicos.\n",
    "Vamos a mostrar los valores más altos de cada variable y los más altos de cada variable agrupado en ID_Motor, por si cada motor presenta unas condiciones diferentes."
   ]
  },
  {
   "cell_type": "markdown",
   "id": "5564625f",
   "metadata": {},
   "source": [
    "Atípicos de Temperatura_C"
   ]
  },
  {
   "cell_type": "code",
   "execution_count": 11,
   "id": "cea95e48",
   "metadata": {},
   "outputs": [
    {
     "name": "stdout",
     "output_type": "stream",
     "text": [
      "     ID_Motor  Temperatura_C  Vibracion_mms  Presion_bar  Humedad_%  \\\n",
      "999   Motor_2          85.00           4.00         4.92      47.04   \n",
      "2499  Motor_5          85.00           4.00         5.20      48.56   \n",
      "495   Motor_1          81.95           3.16         5.34      57.85   \n",
      "499   Motor_1          81.80           2.89         5.35      58.56   \n",
      "472   Motor_1          81.57           2.80         5.14      59.23   \n",
      "474   Motor_1          81.29           2.57         5.22      58.32   \n",
      "466   Motor_1          81.02           3.33         5.43      57.30   \n",
      "497   Motor_1          80.91           3.43         5.19      58.30   \n",
      "460   Motor_1          80.82           3.30         5.39      57.80   \n",
      "473   Motor_1          80.75           3.26         5.37      58.27   \n",
      "\n",
      "      Horas_funcionamiento  Fallo_detectado  \n",
      "999                  13331                1  \n",
      "2499                 13682                1  \n",
      "495                  13846                1  \n",
      "499                  13921                1  \n",
      "472                  13229                1  \n",
      "474                  13243                1  \n",
      "466                  13058                1  \n",
      "497                  13893                1  \n",
      "460                  12884                1  \n",
      "473                  13234                1  \n"
     ]
    }
   ],
   "source": [
    "# Mostrar los 5 valores más altos de 'Temperatura_C'\n",
    "top_10_temp = df.nlargest(10, 'Temperatura_C')\n",
    "print(top_10_temp)"
   ]
  },
  {
   "cell_type": "code",
   "execution_count": 12,
   "id": "94c2609a",
   "metadata": {},
   "outputs": [
    {
     "name": "stdout",
     "output_type": "stream",
     "text": [
      "              ID_Motor  Temperatura_C  Fallo_detectado\n",
      "ID_Motor                                              \n",
      "Motor_1  495   Motor_1          81.95                1\n",
      "         499   Motor_1          81.80                1\n",
      "         472   Motor_1          81.57                1\n",
      "         474   Motor_1          81.29                1\n",
      "         466   Motor_1          81.02                1\n",
      "Motor_2  999   Motor_2          85.00                1\n",
      "         990   Motor_2          75.48                0\n",
      "         962   Motor_2          75.05                0\n",
      "         978   Motor_2          75.03                0\n",
      "         987   Motor_2          74.98                0\n",
      "Motor_3  1499  Motor_3          80.65                1\n",
      "         1484  Motor_3          80.52                1\n",
      "         1481  Motor_3          80.21                1\n",
      "         1474  Motor_3          80.13                1\n",
      "         1498  Motor_3          79.79                1\n",
      "Motor_4  1991  Motor_4          63.40                0\n",
      "         1967  Motor_4          62.88                0\n",
      "         1979  Motor_4          62.68                0\n",
      "         1973  Motor_4          62.65                0\n",
      "         1956  Motor_4          62.41                0\n",
      "Motor_5  2499  Motor_5          85.00                1\n",
      "         2492  Motor_5          76.47                0\n",
      "         2473  Motor_5          75.34                0\n",
      "         2475  Motor_5          75.34                0\n",
      "         2459  Motor_5          75.11                0\n"
     ]
    },
    {
     "name": "stderr",
     "output_type": "stream",
     "text": [
      "C:\\Users\\carlo\\AppData\\Local\\Temp\\ipykernel_4772\\2746016422.py:2: DeprecationWarning: DataFrameGroupBy.apply operated on the grouping columns. This behavior is deprecated, and in a future version of pandas the grouping columns will be excluded from the operation. Either pass `include_groups=False` to exclude the groupings or explicitly select the grouping columns after groupby to silence this warning.\n",
      "  mayor_5_temperatura_por_motor = df.groupby('ID_Motor').apply(\n"
     ]
    }
   ],
   "source": [
    "# Mostrar los 5 valores más altos de 'Temperatura_C' para cada ID_Motor\n",
    "mayor_5_temperatura_por_motor = df.groupby('ID_Motor').apply(\n",
    "    lambda x: x.nlargest(5, 'Temperatura_C')[['ID_Motor', 'Temperatura_C', 'Fallo_detectado']]\n",
    ")\n",
    "print(mayor_5_temperatura_por_motor)"
   ]
  },
  {
   "cell_type": "markdown",
   "id": "27e71a1b",
   "metadata": {},
   "source": [
    "Lo outliers de temperatura tienen Fallo_detectado, por lo que podrían ser un registro útil para detectar fallos, por lo que **vamos a conservarlos**."
   ]
  },
  {
   "cell_type": "markdown",
   "id": "34de59fd",
   "metadata": {},
   "source": [
    "Atípicos de Vibracion_mms:"
   ]
  },
  {
   "cell_type": "code",
   "execution_count": 13,
   "id": "db90f123",
   "metadata": {},
   "outputs": [
    {
     "name": "stdout",
     "output_type": "stream",
     "text": [
      "     ID_Motor  Temperatura_C  Vibracion_mms  Presion_bar  Humedad_%  \\\n",
      "999   Motor_2          85.00           4.00         4.92      47.04   \n",
      "2499  Motor_5          85.00           4.00         5.20      48.56   \n",
      "1498  Motor_3          79.79           3.67         4.77      46.19   \n",
      "1497  Motor_3          77.10           3.62         5.00      47.63   \n",
      "1478  Motor_3          72.41           3.59         4.73      47.02   \n",
      "1997  Motor_4          56.47           3.59         4.95      42.56   \n",
      "1981  Motor_4          58.02           3.54         5.01      41.85   \n",
      "1471  Motor_3          78.86           3.53         4.65      48.23   \n",
      "1499  Motor_3          80.65           3.53         4.81      48.91   \n",
      "1985  Motor_4          56.20           3.53         5.11      40.90   \n",
      "\n",
      "      Horas_funcionamiento  Fallo_detectado  \n",
      "999                  13331                1  \n",
      "2499                 13682                1  \n",
      "1498                 13665                1  \n",
      "1497                 13618                1  \n",
      "1478                 13117                1  \n",
      "1997                 13236                1  \n",
      "1981                 12791                1  \n",
      "1471                 12873                1  \n",
      "1499                 13701                1  \n",
      "1985                 12905                1  \n"
     ]
    }
   ],
   "source": [
    "# Mostrar los 5 valores más altos de 'Vibracion_mms'\n",
    "top_10_vib = df.nlargest(10, 'Vibracion_mms')\n",
    "print(top_10_vib)"
   ]
  },
  {
   "cell_type": "code",
   "execution_count": 14,
   "id": "ad55d295",
   "metadata": {},
   "outputs": [
    {
     "name": "stdout",
     "output_type": "stream",
     "text": [
      "              ID_Motor  Vibracion_mms  Fallo_detectado\n",
      "ID_Motor                                              \n",
      "Motor_1  497   Motor_1           3.43                1\n",
      "         466   Motor_1           3.33                1\n",
      "         460   Motor_1           3.30                1\n",
      "         463   Motor_1           3.30                0\n",
      "         476   Motor_1           3.29                0\n",
      "Motor_2  999   Motor_2           4.00                1\n",
      "         980   Motor_2           3.04                0\n",
      "         979   Motor_2           2.98                0\n",
      "         995   Motor_2           2.96                0\n",
      "         959   Motor_2           2.91                0\n",
      "Motor_3  1498  Motor_3           3.67                1\n",
      "         1497  Motor_3           3.62                1\n",
      "         1478  Motor_3           3.59                1\n",
      "         1471  Motor_3           3.53                1\n",
      "         1499  Motor_3           3.53                1\n",
      "Motor_4  1997  Motor_4           3.59                1\n",
      "         1981  Motor_4           3.54                1\n",
      "         1985  Motor_4           3.53                1\n",
      "         1968  Motor_4           3.50                1\n",
      "         1988  Motor_4           3.48                0\n",
      "Motor_5  2499  Motor_5           4.00                1\n",
      "         2493  Motor_5           2.84                0\n",
      "         2491  Motor_5           2.81                0\n",
      "         2476  Motor_5           2.79                0\n",
      "         2492  Motor_5           2.77                0\n"
     ]
    },
    {
     "name": "stderr",
     "output_type": "stream",
     "text": [
      "C:\\Users\\carlo\\AppData\\Local\\Temp\\ipykernel_4772\\2655256110.py:2: DeprecationWarning: DataFrameGroupBy.apply operated on the grouping columns. This behavior is deprecated, and in a future version of pandas the grouping columns will be excluded from the operation. Either pass `include_groups=False` to exclude the groupings or explicitly select the grouping columns after groupby to silence this warning.\n",
      "  mayor_5_vibracion_por_motor = df.groupby('ID_Motor').apply(\n"
     ]
    }
   ],
   "source": [
    "# Mostrar los 5 valores más altos de 'Vibracion_mms' para cada ID_Motor\n",
    "mayor_5_vibracion_por_motor = df.groupby('ID_Motor').apply(\n",
    "    lambda x: x.nlargest(5, 'Vibracion_mms')[['ID_Motor', 'Vibracion_mms', 'Fallo_detectado']]\n",
    ")\n",
    "print(mayor_5_vibracion_por_motor)"
   ]
  },
  {
   "cell_type": "markdown",
   "id": "832c4d17",
   "metadata": {},
   "source": [
    "Los valores más elevados de vibraciones han dado Fallo__detectado. Por lo que **se decide mantener los valores** atípicos porque están aportando **información valiosa al modelo** de detección de fallos."
   ]
  },
  {
   "cell_type": "markdown",
   "id": "7ff1dc59",
   "metadata": {},
   "source": [
    "Atípicos de Presion_bar:"
   ]
  },
  {
   "cell_type": "code",
   "execution_count": 15,
   "id": "cd1e1a71",
   "metadata": {},
   "outputs": [
    {
     "name": "stdout",
     "output_type": "stream",
     "text": [
      "    ID_Motor  Temperatura_C  Vibracion_mms  Presion_bar  Humedad_%  \\\n",
      "470  Motor_1          74.49           2.81         5.67      56.15   \n",
      "223  Motor_1          73.24           2.48         5.62      57.52   \n",
      "165  Motor_1          71.10           2.14         5.58      57.52   \n",
      "122  Motor_1          68.92           2.11         5.56      57.01   \n",
      "214  Motor_1          73.85           2.23         5.56      57.59   \n",
      "82   Motor_1          69.21           2.20         5.55      58.02   \n",
      "380  Motor_1          74.85           2.68         5.55      57.11   \n",
      "420  Motor_1          71.94           3.11         5.55      58.08   \n",
      "377  Motor_1          72.04           2.63         5.54      57.44   \n",
      "202  Motor_1          71.42           2.18         5.53      56.88   \n",
      "\n",
      "     Horas_funcionamiento  Fallo_detectado  \n",
      "470                 13197                0  \n",
      "223                  6248                0  \n",
      "165                  4570                0  \n",
      "122                  3368                0  \n",
      "214                  6019                0  \n",
      "82                   2362                0  \n",
      "380                 10591                0  \n",
      "420                 11731                0  \n",
      "377                 10536                0  \n",
      "202                  5754                0  \n"
     ]
    }
   ],
   "source": [
    "top_10_vib = df.nlargest(10, 'Presion_bar')\n",
    "print(top_10_vib)"
   ]
  },
  {
   "cell_type": "code",
   "execution_count": 16,
   "id": "b2958c29",
   "metadata": {},
   "outputs": [
    {
     "name": "stdout",
     "output_type": "stream",
     "text": [
      "              ID_Motor  Presion_bar  Fallo_detectado\n",
      "ID_Motor                                            \n",
      "Motor_1  470   Motor_1         5.67                0\n",
      "         223   Motor_1         5.62                0\n",
      "         165   Motor_1         5.58                0\n",
      "         122   Motor_1         5.56                0\n",
      "         214   Motor_1         5.56                0\n",
      "Motor_2  890   Motor_2         5.13                0\n",
      "         707   Motor_2         5.12                0\n",
      "         935   Motor_2         5.12                0\n",
      "         520   Motor_2         5.09                0\n",
      "         709   Motor_2         5.09                0\n",
      "Motor_3  1132  Motor_3         5.12                0\n",
      "         1192  Motor_3         5.11                0\n",
      "         1441  Motor_3         5.11                0\n",
      "         1054  Motor_3         5.09                0\n",
      "         1099  Motor_3         5.09                0\n",
      "Motor_4  1859  Motor_4         5.33                0\n",
      "         1598  Motor_4         5.28                0\n",
      "         1803  Motor_4         5.28                0\n",
      "         1860  Motor_4         5.28                0\n",
      "         1761  Motor_4         5.27                0\n",
      "Motor_5  2429  Motor_5         5.48                0\n",
      "         2172  Motor_5         5.47                0\n",
      "         2249  Motor_5         5.46                0\n",
      "         2051  Motor_5         5.43                0\n",
      "         2213  Motor_5         5.42                0\n"
     ]
    },
    {
     "name": "stderr",
     "output_type": "stream",
     "text": [
      "C:\\Users\\carlo\\AppData\\Local\\Temp\\ipykernel_4772\\629406213.py:2: DeprecationWarning: DataFrameGroupBy.apply operated on the grouping columns. This behavior is deprecated, and in a future version of pandas the grouping columns will be excluded from the operation. Either pass `include_groups=False` to exclude the groupings or explicitly select the grouping columns after groupby to silence this warning.\n",
      "  mayor_5_presion_por_motor = df.groupby('ID_Motor').apply(\n"
     ]
    }
   ],
   "source": [
    "# Mostrar los 5 valores más altos de 'Presion_bar' para cada ID_Motor\n",
    "mayor_5_presion_por_motor = df.groupby('ID_Motor').apply(\n",
    "    lambda x: x.nlargest(5, 'Presion_bar')[['ID_Motor', 'Presion_bar', 'Fallo_detectado']]\n",
    ")\n",
    "print(mayor_5_presion_por_motor)"
   ]
  },
  {
   "cell_type": "markdown",
   "id": "833ef83a",
   "metadata": {},
   "source": [
    "Los valores más altos no parecen atípicos, y no generan fallos, vamos a ver los inferiores:"
   ]
  },
  {
   "cell_type": "code",
   "execution_count": 17,
   "id": "0004cfee",
   "metadata": {},
   "outputs": [
    {
     "name": "stdout",
     "output_type": "stream",
     "text": [
      "              ID_Motor  Presion_bar  Fallo_detectado\n",
      "ID_Motor                                            \n",
      "Motor_1  94    Motor_1         4.98                0\n",
      "         192   Motor_1         4.98                0\n",
      "         177   Motor_1         5.06                0\n",
      "         436   Motor_1         5.08                0\n",
      "         491   Motor_1         5.08                0\n",
      "Motor_2  591   Motor_2         4.54                0\n",
      "         895   Motor_2         4.59                0\n",
      "         595   Motor_2         4.62                0\n",
      "         859   Motor_2         4.62                0\n",
      "         531   Motor_2         4.64                0\n",
      "Motor_3  1003  Motor_3         4.54                0\n",
      "         1019  Motor_3         4.60                0\n",
      "         1411  Motor_3         4.63                0\n",
      "         1002  Motor_3         4.64                0\n",
      "         1210  Motor_3         4.64                0\n",
      "Motor_4  1521  Motor_4         4.76                0\n",
      "         1599  Motor_4         4.78                0\n",
      "         1861  Motor_4         4.80                0\n",
      "         1923  Motor_4         4.80                0\n",
      "         1600  Motor_4         4.81                0\n",
      "Motor_5  2040  Motor_5         4.88                0\n",
      "         2052  Motor_5         4.93                0\n",
      "         2167  Motor_5         4.93                0\n",
      "         2496  Motor_5         4.93                0\n",
      "         2485  Motor_5         4.95                0\n"
     ]
    },
    {
     "name": "stderr",
     "output_type": "stream",
     "text": [
      "C:\\Users\\carlo\\AppData\\Local\\Temp\\ipykernel_4772\\1599104899.py:2: DeprecationWarning: DataFrameGroupBy.apply operated on the grouping columns. This behavior is deprecated, and in a future version of pandas the grouping columns will be excluded from the operation. Either pass `include_groups=False` to exclude the groupings or explicitly select the grouping columns after groupby to silence this warning.\n",
      "  menor_5_presion_por_motor = df.groupby('ID_Motor').apply(\n"
     ]
    }
   ],
   "source": [
    "# Mostrar los 5 valores más bajos de 'Presion_bar' para cada ID_Motor\n",
    "menor_5_presion_por_motor = df.groupby('ID_Motor').apply(\n",
    "    lambda x: x.nsmallest(5, 'Presion_bar')[['ID_Motor', 'Presion_bar', 'Fallo_detectado']]\n",
    ")\n",
    "print(menor_5_presion_por_motor)"
   ]
  },
  {
   "cell_type": "markdown",
   "id": "2032f875",
   "metadata": {},
   "source": [
    "Los valores mínimos son valores admisibles, por lo que vamos a conservarlos."
   ]
  },
  {
   "cell_type": "markdown",
   "id": "5654db5b",
   "metadata": {},
   "source": [
    "Atípicos de Humedad_%, calculando los atípicos por cada Motor de manera independiente:"
   ]
  },
  {
   "cell_type": "code",
   "execution_count": 18,
   "id": "ac41e349",
   "metadata": {},
   "outputs": [
    {
     "name": "stdout",
     "output_type": "stream",
     "text": [
      "              ID_Motor  Humedad_%  Fallo_detectado\n",
      "ID_Motor                                          \n",
      "Motor_1  46    Motor_1      61.47                0\n",
      "         21    Motor_1      60.56                0\n",
      "         175   Motor_1      60.36                0\n",
      "         135   Motor_1      60.26                0\n",
      "         172   Motor_1      60.22                0\n",
      "Motor_2  837   Motor_2      49.43                0\n",
      "         815   Motor_2      49.34                0\n",
      "         970   Motor_2      49.20                0\n",
      "         905   Motor_2      49.11                0\n",
      "         848   Motor_2      49.08                0\n",
      "Motor_3  1467  Motor_3      50.97                0\n",
      "         1146  Motor_3      50.32                0\n",
      "         1232  Motor_3      50.15                0\n",
      "         1019  Motor_3      50.11                0\n",
      "         1367  Motor_3      50.00                0\n",
      "Motor_4  1513  Motor_4      44.71                0\n",
      "         1593  Motor_4      44.69                0\n",
      "         1626  Motor_4      44.20                0\n",
      "         1540  Motor_4      44.11                0\n",
      "         1820  Motor_4      44.07                0\n",
      "Motor_5  2204  Motor_5      53.16                0\n",
      "         2254  Motor_5      52.92                0\n",
      "         2135  Motor_5      52.82                0\n",
      "         2449  Motor_5      52.81                0\n",
      "         2043  Motor_5      52.66                0\n"
     ]
    },
    {
     "name": "stderr",
     "output_type": "stream",
     "text": [
      "C:\\Users\\carlo\\AppData\\Local\\Temp\\ipykernel_4772\\4101722690.py:2: DeprecationWarning: DataFrameGroupBy.apply operated on the grouping columns. This behavior is deprecated, and in a future version of pandas the grouping columns will be excluded from the operation. Either pass `include_groups=False` to exclude the groupings or explicitly select the grouping columns after groupby to silence this warning.\n",
      "  mayor_5_humedad_por_motor = df.groupby('ID_Motor').apply(\n"
     ]
    }
   ],
   "source": [
    "# Mostrar los 5 valores más elevados de 'Humedad_%' para cada ID_Motor\n",
    "mayor_5_humedad_por_motor = df.groupby('ID_Motor').apply(\n",
    "    lambda x: x.nlargest(5, 'Humedad_%')[['ID_Motor', 'Humedad_%', 'Fallo_detectado']]\n",
    ")\n",
    "print(mayor_5_humedad_por_motor)"
   ]
  },
  {
   "cell_type": "code",
   "execution_count": 19,
   "id": "443c0fb3",
   "metadata": {},
   "outputs": [
    {
     "name": "stdout",
     "output_type": "stream",
     "text": [
      "              ID_Motor  Humedad_%  Fallo_detectado\n",
      "ID_Motor                                          \n",
      "Motor_1  341   Motor_1      54.69                0\n",
      "         231   Motor_1      54.77                0\n",
      "         141   Motor_1      54.83                0\n",
      "         174   Motor_1      54.90                0\n",
      "         109   Motor_1      55.16                0\n",
      "Motor_2  993   Motor_2      43.76                0\n",
      "         954   Motor_2      43.99                0\n",
      "         884   Motor_2      44.07                0\n",
      "         974   Motor_2      44.10                0\n",
      "         714   Motor_2      44.40                0\n",
      "Motor_3  1171  Motor_3      44.44                0\n",
      "         1044  Motor_3      44.73                0\n",
      "         1434  Motor_3      45.23                0\n",
      "         1172  Motor_3      45.24                0\n",
      "         1132  Motor_3      45.31                0\n",
      "Motor_4  1604  Motor_4      37.99                0\n",
      "         1688  Motor_4      38.17                0\n",
      "         1569  Motor_4      38.38                0\n",
      "         1804  Motor_4      39.10                0\n",
      "         1927  Motor_4      39.20                0\n",
      "Motor_5  2324  Motor_5      47.47                0\n",
      "         2297  Motor_5      47.88                0\n",
      "         2008  Motor_5      47.91                0\n",
      "         2086  Motor_5      47.93                0\n",
      "         2028  Motor_5      48.06                0\n"
     ]
    },
    {
     "name": "stderr",
     "output_type": "stream",
     "text": [
      "C:\\Users\\carlo\\AppData\\Local\\Temp\\ipykernel_4772\\3894746207.py:2: DeprecationWarning: DataFrameGroupBy.apply operated on the grouping columns. This behavior is deprecated, and in a future version of pandas the grouping columns will be excluded from the operation. Either pass `include_groups=False` to exclude the groupings or explicitly select the grouping columns after groupby to silence this warning.\n",
      "  menor_5_humedad_por_motor = df.groupby('ID_Motor').apply(\n"
     ]
    }
   ],
   "source": [
    "# Mostrar los 5 valores más bajos de 'Humedad_%' para cada ID_Motor\n",
    "menor_5_humedad_por_motor = df.groupby('ID_Motor').apply(\n",
    "    lambda x: x.nsmallest(5, 'Humedad_%')[['ID_Motor', 'Humedad_%', 'Fallo_detectado']]\n",
    ")\n",
    "print(menor_5_humedad_por_motor)"
   ]
  },
  {
   "cell_type": "markdown",
   "id": "9690f6c1",
   "metadata": {},
   "source": [
    "Vemos que los valores más elevados y más bajos de humedades están dentro de **valores admisibles** por lo que **decidimos conservarlos**."
   ]
  },
  {
   "cell_type": "markdown",
   "id": "baae826f",
   "metadata": {},
   "source": [
    "Todo este **exhaustivo estudio** de los valores atípicos o outliers nos ha servido para comprender cómo se comporta nuestra muestra (o muestras, ya que en realidad tenemos una muestra de cada motor). \n",
    "Hemos aprendido que:\n",
    "- Los outliers tienen un valor informativo, ya que generan errores, y están dentro de valores admisibles. Al haber tan pocos fallos de motor, no vamos a eliminar ningún outlier.\n",
    "- Las submuestras de cada motor tienen valores diferentes entre ellos debido a distintas condiciones de trabajo, por lo que debemos normalizar las muestras."
   ]
  },
  {
   "cell_type": "markdown",
   "id": "6ea097e4",
   "metadata": {},
   "source": [
    "Matriz de correlaciones"
   ]
  },
  {
   "cell_type": "code",
   "execution_count": 20,
   "id": "dce7142a",
   "metadata": {},
   "outputs": [
    {
     "data": {
      "image/png": "[encoded data removed]",
      "text/plain": [
       "<Figure size 800x600 with 2 Axes>"
      ]
     },
     "metadata": {},
     "output_type": "display_data"
    }
   ],
   "source": [
    "# Matriz de correlaciones para las variables numéricas\n",
    "import seaborn as sns\n",
    "import matplotlib.pyplot as plt\n",
    "\n",
    "# Selecciona solo las variables numéricas originales\n",
    "variables = ['Temperatura_C', 'Vibracion_mms', 'Presion_bar', 'Humedad_%', 'Horas_funcionamiento','Fallo_detectado']\n",
    "corr = df[variables].corr()\n",
    "\n",
    "plt.figure(figsize=(8,6))\n",
    "sns.heatmap(corr, annot=True, cmap='coolwarm', fmt=\".2f\")\n",
    "plt.title('Matriz de correlaciones')\n",
    "plt.show()"
   ]
  },
  {
   "cell_type": "markdown",
   "id": "6aa4fc44",
   "metadata": {},
   "source": [
    "A la vista de los resultados, vemos que hay una fuerte correlación entre algunas variables, por ejemplo humedad está correlacionada con las variables temperatura y presión. Y entre horas de funcionamiento y vibración (y menos con temperatura).\n",
    "Sin embargo, no hay ninguna correlación fuerte con el fallo. La correlación de fallo con vibración es de 0,22, y menor con el resto. \n",
    "Será un reto obtener un modelo que prediga exitosamente el fallo de motor."
   ]
  },
  {
   "cell_type": "markdown",
   "id": "88f22323",
   "metadata": {},
   "source": [
    "# Modelado Predictivo"
   ]
  },
  {
   "cell_type": "markdown",
   "id": "5889d6b6",
   "metadata": {},
   "source": [
    "En primer lugar vamos a hacer una **estandarización**. Previamente había hecho una normalización de las variables pero luego me he dado cuenta de que si luego usaba el modelo de scikit learn para las predicciones, no tenía sentido normalizar 2 veces. Finalmente decidí normalizar con el paquete StandardScaler."
   ]
  },
  {
   "cell_type": "code",
   "execution_count": 21,
   "id": "8624b22b",
   "metadata": {},
   "outputs": [
    {
     "data": {
      "text/html": [
       "<div>\n",
       "<style scoped>\n",
       "    .dataframe tbody tr th:only-of-type {\n",
       "        vertical-align: middle;\n",
       "    }\n",
       "\n",
       "    .dataframe tbody tr th {\n",
       "        vertical-align: top;\n",
       "    }\n",
       "\n",
       "    .dataframe thead th {\n",
       "        text-align: right;\n",
       "    }\n",
       "</style>\n",
       "<table border=\"1\" class=\"dataframe\">\n",
       "  <thead>\n",
       "    <tr style=\"text-align: right;\">\n",
       "      <th></th>\n",
       "      <th>ID_Motor</th>\n",
       "      <th>Temperatura_C</th>\n",
       "      <th>Vibracion_mms</th>\n",
       "      <th>Presion_bar</th>\n",
       "      <th>Humedad_%</th>\n",
       "      <th>Horas_funcionamiento</th>\n",
       "      <th>Fallo_detectado</th>\n",
       "    </tr>\n",
       "  </thead>\n",
       "  <tbody>\n",
       "    <tr>\n",
       "      <th>0</th>\n",
       "      <td>Motor_1</td>\n",
       "      <td>0.172065</td>\n",
       "      <td>-0.864812</td>\n",
       "      <td>1.446024</td>\n",
       "      <td>1.838511</td>\n",
       "      <td>-1.727935</td>\n",
       "      <td>0</td>\n",
       "    </tr>\n",
       "    <tr>\n",
       "      <th>1</th>\n",
       "      <td>Motor_1</td>\n",
       "      <td>0.173414</td>\n",
       "      <td>-0.864812</td>\n",
       "      <td>1.106909</td>\n",
       "      <td>1.750463</td>\n",
       "      <td>-1.720798</td>\n",
       "      <td>0</td>\n",
       "    </tr>\n",
       "    <tr>\n",
       "      <th>2</th>\n",
       "      <td>Motor_1</td>\n",
       "      <td>0.177459</td>\n",
       "      <td>-0.864812</td>\n",
       "      <td>0.477125</td>\n",
       "      <td>1.542519</td>\n",
       "      <td>-1.714425</td>\n",
       "      <td>0</td>\n",
       "    </tr>\n",
       "    <tr>\n",
       "      <th>3</th>\n",
       "      <td>Motor_1</td>\n",
       "      <td>0.184202</td>\n",
       "      <td>-0.864812</td>\n",
       "      <td>1.446024</td>\n",
       "      <td>1.505052</td>\n",
       "      <td>-1.702700</td>\n",
       "      <td>0</td>\n",
       "    </tr>\n",
       "    <tr>\n",
       "      <th>4</th>\n",
       "      <td>Motor_1</td>\n",
       "      <td>0.184202</td>\n",
       "      <td>-0.864812</td>\n",
       "      <td>0.767794</td>\n",
       "      <td>1.718615</td>\n",
       "      <td>-1.690464</td>\n",
       "      <td>0</td>\n",
       "    </tr>\n",
       "  </tbody>\n",
       "</table>\n",
       "</div>"
      ],
      "text/plain": [
       "  ID_Motor  Temperatura_C  Vibracion_mms  Presion_bar  Humedad_%  \\\n",
       "0  Motor_1       0.172065      -0.864812     1.446024   1.838511   \n",
       "1  Motor_1       0.173414      -0.864812     1.106909   1.750463   \n",
       "2  Motor_1       0.177459      -0.864812     0.477125   1.542519   \n",
       "3  Motor_1       0.184202      -0.864812     1.446024   1.505052   \n",
       "4  Motor_1       0.184202      -0.864812     0.767794   1.718615   \n",
       "\n",
       "   Horas_funcionamiento  Fallo_detectado  \n",
       "0             -1.727935                0  \n",
       "1             -1.720798                0  \n",
       "2             -1.714425                0  \n",
       "3             -1.702700                0  \n",
       "4             -1.690464                0  "
      ]
     },
     "execution_count": 21,
     "metadata": {},
     "output_type": "execute_result"
    }
   ],
   "source": [
    "from sklearn.preprocessing import StandardScaler\n",
    "import pickle\n",
    "\n",
    "# Lista de columnas para escalar\n",
    "columns = ['Temperatura_C', 'Vibracion_mms', 'Presion_bar', 'Humedad_%', 'Horas_funcionamiento']\n",
    "\n",
    "# Escalar las columnas numéricas\n",
    "scaler = StandardScaler()\n",
    "df[columns] = scaler.fit_transform(df[columns])\n",
    "\n",
    "# Guardar el objeto scaler para uso posterior\n",
    "with open('scaler.pkl', 'wb') as f:\n",
    "    pickle.dump(scaler, f)\n",
    "\n",
    "# Mostrar las primeras filas del dataset procesado\n",
    "df.head()"
   ]
  },
  {
   "cell_type": "markdown",
   "id": "8a989a9d",
   "metadata": {},
   "source": [
    "# Regresión Logística"
   ]
  },
  {
   "cell_type": "markdown",
   "id": "a14a3168",
   "metadata": {},
   "source": [
    "Regresión Logística. A pesar del nombre, es un clasificador. \n",
    "- Aplicaremos penalización L1, ya tiene mejor resultado que L2 (0.9907 vs 0.9880)\n",
    "- Establecemos conjunto de entrenamiento y prueba (70%-30%)"
   ]
  },
  {
   "cell_type": "code",
   "execution_count": 22,
   "id": "cc7ed88e",
   "metadata": {},
   "outputs": [
    {
     "name": "stdout",
     "output_type": "stream",
     "text": [
      "Fallo_detectado\n",
      "0    2475\n",
      "1      25\n",
      "Name: count, dtype: int64\n",
      "Accuracy CV media: 0.9922\n",
      "Accuracy en test: 0.9920\n",
      "Recall en test: 0.3333\n",
      "F1 score en test: 0.5000\n"
     ]
    }
   ],
   "source": [
    "from sklearn.model_selection import train_test_split, RepeatedStratifiedKFold, cross_val_score\n",
    "from sklearn.linear_model import LogisticRegression\n",
    "from sklearn.preprocessing import LabelEncoder, StandardScaler\n",
    "\n",
    "# Construcción del dataset para el primer modelo\n",
    "df_model1 = df.drop(['ID_Motor'], axis=1)\n",
    "\n",
    "# Mostrar las primeras filas\n",
    "df_model1.head()\n",
    "\n",
    "# Conteo de clases en la variable objetivo\n",
    "print(df_model1['Fallo_detectado'].value_counts())\n",
    "\n",
    "# Codificar variable objetivo\n",
    "le = LabelEncoder()\n",
    "df_model1['Fallo_detectado'] = le.fit_transform(df_model1['Fallo_detectado'])\n",
    "\n",
    "# Separar variables independientes y dependiente\n",
    "X = df_model1.drop('Fallo_detectado', axis=1)\n",
    "y = df_model1['Fallo_detectado']\n",
    "\n",
    "# División entrenamiento-prueba\n",
    "X_train, X_test, y_train, y_test = train_test_split(X, y, test_size=0.3, random_state=42)\n",
    "\n",
    "# Definir modelo: Regresión logística binaria\n",
    "lr = LogisticRegression(penalty=\"l1\", max_iter=1000, solver='liblinear')\n",
    "\n",
    "# Validación cruzada estratificada repetida\n",
    "cv = RepeatedStratifiedKFold(n_splits=10, n_repeats=3, random_state=1)\n",
    "\n",
    "# Evaluar con validación cruzada\n",
    "n_scores = cross_val_score(lr, X_train, y_train, scoring='accuracy', cv=cv, n_jobs=-1)\n",
    "print(f'Accuracy CV media: {n_scores.mean():.4f}')\n",
    "\n",
    "# Entrenar modelo con todos los datos de entrenamiento\n",
    "lr.fit(X_train, y_train)\n",
    "\n",
    "# Evaluar modelo con conjunto de prueba\n",
    "score_test = lr.score(X_test, y_test)\n",
    "print(f'Accuracy en test: {score_test:.4f}')\n",
    "\n",
    "from sklearn.metrics import recall_score\n",
    "\n",
    "# Predecir con el modelo entrenado\n",
    "y_pred = lr.predict(X_test)\n",
    "\n",
    "# Calcular recall en el conjunto de prueba\n",
    "recall = recall_score(y_test, y_pred)\n",
    "print(f'Recall en test: {recall:.4f}')\n",
    "\n",
    "from sklearn.metrics import f1_score\n",
    "\n",
    "# Calcular F1 score en el conjunto de prueba\n",
    "f1 = f1_score(y_test, y_pred)\n",
    "print(f'F1 score en test: {f1:.4f}')\n",
    "\n",
    "# Guardar modelo entrenado\n",
    "with open('model_lr.pkl', 'wb') as f:\n",
    "    pickle.dump(lr, f)"
   ]
  },
  {
   "cell_type": "markdown",
   "id": "69400c2a",
   "metadata": {},
   "source": [
    "Accuracy nos dice en qué proporción ha acertado. En nuestro caso, el valor es elevado, pero hay que mirar con más detalle, ya que al haber una gran mayoría de 0 (no error), para nuestro caso es fundamental que acierte al detectar errores. Por eso usamos otros indicadores de acierto en predicción de errores."
   ]
  },
  {
   "cell_type": "markdown",
   "id": "50070326",
   "metadata": {},
   "source": [
    "Recall score: valor de precisión sobre los fallos detectados. Esta precisión es importante, ya que hay muy pocos fallos sobre el total, por lo que adivinarlos es fundamental."
   ]
  },
  {
   "cell_type": "markdown",
   "id": "7529dded",
   "metadata": {},
   "source": [
    "F1 score: combina la precisión y el recall.\n",
    "Se calcula F1 = 2 * (precisión * recall) / (precisión + recall), \n",
    "donde: \n",
    "\n",
    "    Precisión: de los casos predichos como positivos, cuántos son realmente positivos.\n",
    "\n",
    "    Recall: de los positivos reales, cuántos detectó el modelo."
   ]
  },
  {
   "cell_type": "code",
   "execution_count": 23,
   "id": "1b46dabd",
   "metadata": {},
   "outputs": [
    {
     "name": "stdout",
     "output_type": "stream",
     "text": [
      "                Modelo  Accuracy_CV  Accuracy    Recall   F1\n",
      "0  Regresion_logistica      0.99219     0.992  0.333333  0.5\n"
     ]
    }
   ],
   "source": [
    "# Crear DataFrame con resultados del modelo para almacenar en la base de datos\n",
    "df_modelos = pd.DataFrame(\n",
    "    {'Modelo':['Regresion_logistica'],\n",
    "    'Accuracy_CV': [n_scores.mean()],\n",
    "    'Accuracy': [score_test],\n",
    "    'Recall': [recall],\n",
    "    'F1': [f1]\n",
    "    }\n",
    ")\n",
    "print(df_modelos)"
   ]
  },
  {
   "cell_type": "markdown",
   "id": "f7a9ca12",
   "metadata": {},
   "source": [
    "# Decision tree"
   ]
  },
  {
   "cell_type": "code",
   "execution_count": 24,
   "id": "ed4d1f60",
   "metadata": {},
   "outputs": [
    {
     "name": "stdout",
     "output_type": "stream",
     "text": [
      "Accuracy CV media (Decision Tree): 0.9990\n",
      "Accuracy en test (Decision Treet): 0.9987\n",
      "Recall en test (Decision Tree): 1.0000\n",
      "F1 score en test (Decision Tree): 0.9474\n"
     ]
    }
   ],
   "source": [
    "from sklearn import tree\n",
    "\n",
    "# Definir modelo Decision Tree\n",
    "dt = tree.DecisionTreeClassifier()\n",
    "\n",
    "# Mantener el mismo esquema de validación cruzada\n",
    "cv = RepeatedStratifiedKFold(n_splits=10, n_repeats=3, random_state=1)\n",
    "\n",
    "# Evaluar con validación cruzada\n",
    "n_scores = cross_val_score(dt, X_train, y_train, scoring='accuracy', cv=cv, n_jobs=-1)\n",
    "print(f'Accuracy CV media (Decision Tree): {n_scores.mean():.4f}')\n",
    "\n",
    "# Entrenar modelo\n",
    "dt.fit(X_train, y_train)\n",
    "\n",
    "# Evaluar en conjunto de prueba\n",
    "score_test = dt.score(X_test, y_test)\n",
    "print(f'Accuracy en test (Decision Treet): {score_test:.4f}')\n",
    "\n",
    "# Predecir con el modelo entrenado\n",
    "y_pred = dt.predict(X_test)\n",
    "\n",
    "# Calcular recall en el conjunto de prueba\n",
    "recall = recall_score(y_test, y_pred)\n",
    "print(f'Recall en test (Decision Tree): {recall:.4f}')\n",
    "\n",
    "# Calcular F1 score en el conjunto de prueba\n",
    "f1 = f1_score(y_test, y_pred)\n",
    "print(f'F1 score en test (Decision Tree): {f1:.4f}')\n",
    "\n",
    "# Guardar modelo entrenado\n",
    "with open('model_dt.pkl', 'wb') as f:\n",
    "    pickle.dump(dt, f)"
   ]
  },
  {
   "cell_type": "markdown",
   "id": "8e3643ef",
   "metadata": {},
   "source": [
    "El árbol de decisión mejora significativamente el anterior modelo, vamos a ver si con Random forest conseguimos mejorar la precisión. En teoría, debería ser así."
   ]
  },
  {
   "cell_type": "code",
   "execution_count": 25,
   "id": "47f26aa5",
   "metadata": {},
   "outputs": [
    {
     "name": "stdout",
     "output_type": "stream",
     "text": [
      "                Modelo  Accuracy_CV  Accuracy    Recall        F1\n",
      "0  Regresion_logistica     0.992190  0.992000  0.333333  0.500000\n",
      "1        Decision_tree     0.999048  0.998667  1.000000  0.947368\n"
     ]
    }
   ],
   "source": [
    "# Actualizomos el DataFrame con los resultados del modelo Decision Tree\n",
    "nuevo_modelo = pd.DataFrame(\n",
    "    {'Modelo':['Decision_tree'],\n",
    "    'Accuracy_CV': [n_scores.mean()],\n",
    "    'Accuracy': [score_test],\n",
    "    'Recall': [recall],\n",
    "    'F1': [f1]\n",
    "    }\n",
    ")\n",
    "df_modelos = pd.concat([df_modelos, nuevo_modelo], ignore_index=True)\n",
    "print(df_modelos)"
   ]
  },
  {
   "cell_type": "markdown",
   "id": "548187d5",
   "metadata": {},
   "source": [
    "# Random forest"
   ]
  },
  {
   "cell_type": "markdown",
   "id": "59be89eb",
   "metadata": {},
   "source": [
    "Este modelo es un conjunto de árboles de decisión. La decisión final es el voto de la mayoría de árboles. Es más robuesto y potente. \n",
    "Este modelo tiene 100 árboles."
   ]
  },
  {
   "cell_type": "code",
   "execution_count": 26,
   "id": "1a5f47fc",
   "metadata": {},
   "outputs": [
    {
     "name": "stdout",
     "output_type": "stream",
     "text": [
      "Accuracy CV media (Random Forest): 0.9996\n",
      "Accuracy en test (Random Forest): 0.9987\n",
      "Recall en Random Forest: 0.8889\n",
      "F1 score en Random Forest: 0.9412\n"
     ]
    }
   ],
   "source": [
    "from sklearn.ensemble import RandomForestClassifier\n",
    "\n",
    "# Definir modelo Random Forest\n",
    "rf = RandomForestClassifier(n_estimators=100, random_state=42)\n",
    "\n",
    "# Mantener el mismo esquema de validación cruzada\n",
    "cv = RepeatedStratifiedKFold(n_splits=10, n_repeats=3, random_state=1)\n",
    "\n",
    "# Evaluar con validación cruzada\n",
    "n_scores = cross_val_score(rf, X_train, y_train, scoring='accuracy', cv=cv, n_jobs=-1)\n",
    "print(f'Accuracy CV media (Random Forest): {n_scores.mean():.4f}')\n",
    "\n",
    "# Entrenar modelo\n",
    "rf.fit(X_train, y_train)\n",
    "\n",
    "# Evaluar en conjunto de prueba\n",
    "score_test = rf.score(X_test, y_test)\n",
    "print(f'Accuracy en test (Random Forest): {score_test:.4f}')\n",
    "\n",
    "# Predecir con el modelo entrenado\n",
    "y_pred = rf.predict(X_test)\n",
    "\n",
    "# Calcular recall en el conjunto de prueba\n",
    "recall = recall_score(y_test, y_pred)\n",
    "print(f'Recall en Random Forest: {recall:.4f}')\n",
    "\n",
    "# Calcular F1 score en el conjunto de prueba\n",
    "f1 = f1_score(y_test, y_pred)\n",
    "print(f'F1 score en Random Forest: {f1:.4f}')\n",
    "\n",
    "# Guardar modelo entrenado\n",
    "with open('model_rf.pkl', 'wb') as f:\n",
    "    pickle.dump(rf, f)"
   ]
  },
  {
   "cell_type": "markdown",
   "id": "1b51f9a7",
   "metadata": {},
   "source": [
    "Sorprendentemente, este modelo no mejora al anterior: recall en decision tree es de 1,00 y random forest de 0,889. F1 es 0,947 en decision tree y 0,941 en random forest."
   ]
  },
  {
   "cell_type": "code",
   "execution_count": 27,
   "id": "d6d21c3d",
   "metadata": {},
   "outputs": [
    {
     "name": "stdout",
     "output_type": "stream",
     "text": [
      "                Modelo  Accuracy_CV  Accuracy    Recall        F1\n",
      "0  Regresion_logistica     0.992190  0.992000  0.333333  0.500000\n",
      "1        Decision_tree     0.999048  0.998667  1.000000  0.947368\n",
      "2        Random_forest     0.999619  0.998667  0.888889  0.941176\n"
     ]
    }
   ],
   "source": [
    "# Actualizomos el DataFrame con los resultados del modelo Random Forest\n",
    "nuevo_modelo = pd.DataFrame(\n",
    "    {'Modelo':['Random_forest'],\n",
    "    'Accuracy_CV': [n_scores.mean()],\n",
    "    'Accuracy': [score_test],\n",
    "    'Recall': [recall],\n",
    "    'F1': [f1]\n",
    "    }\n",
    ")\n",
    "df_modelos = pd.concat([df_modelos, nuevo_modelo], ignore_index=True)\n",
    "print(df_modelos)"
   ]
  },
  {
   "cell_type": "markdown",
   "id": "9abf2ab2",
   "metadata": {},
   "source": [
    "# SVM Support Vector Machines"
   ]
  },
  {
   "cell_type": "markdown",
   "id": "9a1f8e47",
   "metadata": {},
   "source": [
    "Vamos a utilizar el método Support Vector Classification. con el kernel por defecto 'rbf'."
   ]
  },
  {
   "cell_type": "code",
   "execution_count": 28,
   "id": "27ed9233",
   "metadata": {},
   "outputs": [
    {
     "name": "stdout",
     "output_type": "stream",
     "text": [
      "Accuracy CV media (SVC): 0.9834\n",
      "Accuracy en test (SVC): 0.9760\n",
      "Recall en test (SVC): 1.0000\n",
      "F1 score en test (SVC): 0.5000\n"
     ]
    }
   ],
   "source": [
    "from sklearn import svm\n",
    "\n",
    "# Definir modelo Decision Tree\n",
    "sv = svm.SVC(kernel='rbf',class_weight='balanced', C=1.0, random_state=42)\n",
    "\n",
    "# Mantener el mismo esquema de validación cruzada\n",
    "cv = RepeatedStratifiedKFold(n_splits=10, n_repeats=3, random_state=1)\n",
    "\n",
    "# Evaluar con validación cruzada\n",
    "n_scores = cross_val_score(sv, X_train, y_train, scoring='accuracy', cv=cv, n_jobs=-1)\n",
    "print(f'Accuracy CV media (SVC): {n_scores.mean():.4f}')\n",
    "\n",
    "# Entrenar modelo\n",
    "sv.fit(X_train, y_train)\n",
    "\n",
    "# Evaluar en conjunto de prueba\n",
    "score_test = sv.score(X_test, y_test)\n",
    "print(f'Accuracy en test (SVC): {score_test:.4f}')\n",
    "\n",
    "# Predecir con el modelo entrenado\n",
    "y_pred = sv.predict(X_test)\n",
    "\n",
    "# Calcular recall en el conjunto de prueba\n",
    "recall = recall_score(y_test, y_pred)\n",
    "print(f'Recall en test (SVC): {recall:.4f}')\n",
    "\n",
    "# Calcular F1 score en el conjunto de prueba\n",
    "f1 = f1_score(y_test, y_pred)\n",
    "print(f'F1 score en test (SVC): {f1:.4f}')\n",
    "\n",
    "# Guardar modelo entrenado\n",
    "with open('model_sv.pkl', 'wb') as f:\n",
    "    pickle.dump(sv, f)"
   ]
  },
  {
   "cell_type": "markdown",
   "id": "fba3f301",
   "metadata": {},
   "source": [
    "Este método es menos preciso que Random Forest. Este último será el que elegiremos para nuestro modelo de predicción de fallos."
   ]
  },
  {
   "cell_type": "code",
   "execution_count": 29,
   "id": "b39322b4",
   "metadata": {},
   "outputs": [
    {
     "name": "stdout",
     "output_type": "stream",
     "text": [
      "                Modelo  Accuracy_CV  Accuracy    Recall        F1\n",
      "0  Regresion_logistica     0.992190  0.992000  0.333333  0.500000\n",
      "1        Decision_tree     0.999048  0.998667  1.000000  0.947368\n",
      "2        Random_forest     0.999619  0.998667  0.888889  0.941176\n",
      "3                  SVM     0.983429  0.976000  1.000000  0.500000\n"
     ]
    }
   ],
   "source": [
    "# Actualizomos el DataFrame con los resultados del modelo SVM\n",
    "nuevo_modelo = pd.DataFrame(\n",
    "    {'Modelo':['SVM'],\n",
    "    'Accuracy_CV': [n_scores.mean()],\n",
    "    'Accuracy': [score_test],\n",
    "    'Recall': [recall],\n",
    "    'F1': [f1]\n",
    "    }\n",
    ")\n",
    "df_modelos = pd.concat([df_modelos, nuevo_modelo], ignore_index=True)\n",
    "print(df_modelos)"
   ]
  },
  {
   "cell_type": "markdown",
   "id": "e1c85ac0",
   "metadata": {},
   "source": [
    "# Prueba del modelo con nuevos datos"
   ]
  },
  {
   "cell_type": "code",
   "execution_count": 40,
   "id": "250ad38a",
   "metadata": {},
   "outputs": [],
   "source": [
    "# Cargar el escalador desde el archivo pickle\n",
    "import joblib\n",
    "import numpy as np\n",
    "\n",
    "# Cargar el scaler guardado\n",
    "scaler = joblib.load(\"scaler.pkl\")\n",
    "\n",
    "# Cargar los modelos entrenados\n",
    "model_dt = joblib.load(\"model_dt.pkl\")"
   ]
  },
  {
   "cell_type": "markdown",
   "id": "0e45cfc5",
   "metadata": {},
   "source": [
    "Vamos a simular un caso real de introducción de datos nuevos."
   ]
  },
  {
   "cell_type": "code",
   "execution_count": 31,
   "id": "caeec599",
   "metadata": {},
   "outputs": [
    {
     "data": {
      "text/html": [
       "<div>\n",
       "<style scoped>\n",
       "    .dataframe tbody tr th:only-of-type {\n",
       "        vertical-align: middle;\n",
       "    }\n",
       "\n",
       "    .dataframe tbody tr th {\n",
       "        vertical-align: top;\n",
       "    }\n",
       "\n",
       "    .dataframe thead th {\n",
       "        text-align: right;\n",
       "    }\n",
       "</style>\n",
       "<table border=\"1\" class=\"dataframe\">\n",
       "  <thead>\n",
       "    <tr style=\"text-align: right;\">\n",
       "      <th></th>\n",
       "      <th>Motor_ID</th>\n",
       "      <th>Temperatura_C</th>\n",
       "      <th>Vibracion_mms</th>\n",
       "      <th>Presion_bar</th>\n",
       "      <th>Humedad_%</th>\n",
       "      <th>Horas_funcionamiento</th>\n",
       "    </tr>\n",
       "  </thead>\n",
       "  <tbody>\n",
       "    <tr>\n",
       "      <th>0</th>\n",
       "      <td>Motor_1</td>\n",
       "      <td>60</td>\n",
       "      <td>2.0</td>\n",
       "      <td>4.5</td>\n",
       "      <td>45</td>\n",
       "      <td>1000</td>\n",
       "    </tr>\n",
       "    <tr>\n",
       "      <th>1</th>\n",
       "      <td>Motor_2</td>\n",
       "      <td>61</td>\n",
       "      <td>1.5</td>\n",
       "      <td>4.6</td>\n",
       "      <td>50</td>\n",
       "      <td>1500</td>\n",
       "    </tr>\n",
       "    <tr>\n",
       "      <th>2</th>\n",
       "      <td>Motor_3</td>\n",
       "      <td>63</td>\n",
       "      <td>1.7</td>\n",
       "      <td>4.8</td>\n",
       "      <td>55</td>\n",
       "      <td>1200</td>\n",
       "    </tr>\n",
       "    <tr>\n",
       "      <th>3</th>\n",
       "      <td>Motor_4</td>\n",
       "      <td>70</td>\n",
       "      <td>1.4</td>\n",
       "      <td>5.0</td>\n",
       "      <td>60</td>\n",
       "      <td>1600</td>\n",
       "    </tr>\n",
       "    <tr>\n",
       "      <th>4</th>\n",
       "      <td>Motor_5</td>\n",
       "      <td>80</td>\n",
       "      <td>3.0</td>\n",
       "      <td>5.3</td>\n",
       "      <td>58</td>\n",
       "      <td>12500</td>\n",
       "    </tr>\n",
       "  </tbody>\n",
       "</table>\n",
       "</div>"
      ],
      "text/plain": [
       "  Motor_ID  Temperatura_C  Vibracion_mms  Presion_bar  Humedad_%  \\\n",
       "0  Motor_1             60            2.0          4.5         45   \n",
       "1  Motor_2             61            1.5          4.6         50   \n",
       "2  Motor_3             63            1.7          4.8         55   \n",
       "3  Motor_4             70            1.4          5.0         60   \n",
       "4  Motor_5             80            3.0          5.3         58   \n",
       "\n",
       "   Horas_funcionamiento  \n",
       "0                  1000  \n",
       "1                  1500  \n",
       "2                  1200  \n",
       "3                  1600  \n",
       "4                 12500  "
      ]
     },
     "execution_count": 31,
     "metadata": {},
     "output_type": "execute_result"
    }
   ],
   "source": [
    "# Supondremos una matriz de datos de lecturas nuevas\n",
    "df_raw = pd.DataFrame({'Motor_ID': ['Motor_1', 'Motor_2', 'Motor_3','Motor_4','Motor_5'],\n",
    "    'Temperatura_C': [60, 61, 63, 70, 80],\n",
    "    'Vibracion_mms': [2, 1.5, 1.7, 1.4, 3],\n",
    "    'Presion_bar': [4.5, 4.6, 4.8, 5, 5.3],\n",
    "    'Humedad_%': [45, 50, 55, 60, 58],\n",
    "    'Horas_funcionamiento': [1000, 1500, 1200, 1600, 12500]\n",
    "})\n",
    "\n",
    "df_raw.head()"
   ]
  },
  {
   "cell_type": "code",
   "execution_count": 32,
   "id": "5d8a3a85",
   "metadata": {},
   "outputs": [
    {
     "data": {
      "text/plain": [
       "array([[-0.83661238, -0.77670419, -2.67179733, -0.71488484, -1.48399547],\n",
       "       [-0.70176243, -1.87804983, -2.18734779,  0.22179735, -1.35654549],\n",
       "       [-0.43206251, -1.43751157, -1.21844872,  1.15847954, -1.43301548],\n",
       "       [ 0.51188721, -2.09831896, -0.24954965,  2.09516173, -1.3310555 ],\n",
       "       [ 1.8603868 ,  1.42598709,  1.20379897,  1.72048886,  1.4473539 ]])"
      ]
     },
     "execution_count": 32,
     "metadata": {},
     "output_type": "execute_result"
    }
   ],
   "source": [
    "# Escalar sólo las columnas 'Temperatura_C', 'Vibracion_mms', 'Presion_bar', 'Humedad_%', 'Horas_funcionamiento'\n",
    "df_scaled = df_raw[['Temperatura_C', 'Vibracion_mms', 'Presion_bar', 'Humedad_%', 'Horas_funcionamiento']]\n",
    "scaled_input = scaler.transform(df_scaled)\n",
    "scaled_input"
   ]
  },
  {
   "cell_type": "code",
   "execution_count": 41,
   "id": "4a41fb93",
   "metadata": {},
   "outputs": [],
   "source": [
    "# Realizamos predicciones con el modelo Random Forest, añadiendo los nombres de columnas\n",
    "columnas = ['Temperatura_C', 'Vibracion_mms', 'Presion_bar', 'Humedad_%', 'Horas_funcionamiento']\n",
    "scaled_input_df = pd.DataFrame(scaled_input, columns=columnas)\n",
    "fallo_previsto = model_dt.predict(scaled_input_df)"
   ]
  },
  {
   "cell_type": "code",
   "execution_count": 42,
   "id": "3e3210cf",
   "metadata": {},
   "outputs": [
    {
     "name": "stdout",
     "output_type": "stream",
     "text": [
      "  Motor_ID  Temperatura_C  Vibracion_mms  Presion_bar  Humedad_%  \\\n",
      "0  Motor_1             60            2.0          4.5         45   \n",
      "1  Motor_2             61            1.5          4.6         50   \n",
      "2  Motor_3             63            1.7          4.8         55   \n",
      "3  Motor_4             70            1.4          5.0         60   \n",
      "4  Motor_5             80            3.0          5.3         58   \n",
      "\n",
      "   Horas_funcionamiento  Fallo_previsto  \n",
      "0                  1000               0  \n",
      "1                  1500               0  \n",
      "2                  1200               0  \n",
      "3                  1600               0  \n",
      "4                 12500               1  \n"
     ]
    }
   ],
   "source": [
    "# df final con datos de lecturas y las predicciones\n",
    "\n",
    "df_prediccion = df_raw.copy()\n",
    "df_prediccion['Fallo_previsto'] = fallo_previsto\n",
    "\n",
    "print(df_prediccion)"
   ]
  },
  {
   "cell_type": "markdown",
   "id": "f8f76f79",
   "metadata": {},
   "source": [
    "Creamos un bucle que pase por las lecturas de los motores y nos interprete la predicción."
   ]
  },
  {
   "cell_type": "code",
   "execution_count": 44,
   "id": "f7fc6531",
   "metadata": {},
   "outputs": [
    {
     "name": "stdout",
     "output_type": "stream",
     "text": [
      "✅ Motor_1 - En buen estado\n",
      "✅ Motor_2 - En buen estado\n",
      "✅ Motor_3 - En buen estado\n",
      "✅ Motor_4 - En buen estado\n",
      "❌ Motor_5 - Posible fallo\n"
     ]
    }
   ],
   "source": [
    "# Iconos para la interpretación visual\n",
    "atencion = \"❌\"\n",
    "ok = \"✅\"\n",
    "# Interpretación de predicción\n",
    "for motor in df_prediccion['Motor_ID']:\n",
    "    fallo = df_prediccion[df_prediccion['Motor_ID'] == motor]['Fallo_previsto'].values[0]\n",
    "    if fallo == 1:\n",
    "        print(f\"{atencion} {motor} - Posible fallo\")\n",
    "    else:\n",
    "        print(f\"{ok} {motor} - En buen estado\")"
   ]
  },
  {
   "cell_type": "markdown",
   "id": "5c7a25fc",
   "metadata": {},
   "source": [
    "Exportar datos a tabla de SQL"
   ]
  },
  {
   "cell_type": "code",
   "execution_count": 45,
   "id": "f6cb0f97",
   "metadata": {},
   "outputs": [
    {
     "data": {
      "text/plain": [
       "5"
      ]
     },
     "execution_count": 45,
     "metadata": {},
     "output_type": "execute_result"
    }
   ],
   "source": [
    "from sqlalchemy import create_engine\n",
    "\n",
    "# Conexión a la base de datos con autenticación de Windows\n",
    "engine = create_engine(\"mssql+pyodbc://CARLOSLLISA\\\\SQLEXPRESS/Prediccion_fallos?driver=ODBC+Driver+17+for+SQL+Server&Trusted_Connection=yes\")\n",
    "df_prediccion.to_sql('Prediccion', engine, if_exists='replace', index=False)"
   ]
  },
  {
   "cell_type": "code",
   "execution_count": 37,
   "id": "6a02a33e",
   "metadata": {},
   "outputs": [
    {
     "data": {
      "text/plain": [
       "108"
      ]
     },
     "execution_count": 37,
     "metadata": {},
     "output_type": "execute_result"
    }
   ],
   "source": [
    "# cargamos el DataFrame original para almacenar en la base de datos\n",
    "df_original.to_sql('Original', engine, if_exists='replace', index=False)"
   ]
  },
  {
   "cell_type": "code",
   "execution_count": 46,
   "id": "8f9cdb0a",
   "metadata": {},
   "outputs": [
    {
     "data": {
      "text/plain": [
       "4"
      ]
     },
     "execution_count": 46,
     "metadata": {},
     "output_type": "execute_result"
    }
   ],
   "source": [
    "# cargamos el DataFrame con la comparalación de modelos para almacenar en la base de datos\n",
    "df_modelos.to_sql('Modelos', engine, if_exists='replace', index=False)"
   ]
  },
  {
   "cell_type": "markdown",
   "id": "699890b6",
   "metadata": {},
   "source": [
    "# Conclusiones finales\n",
    "\n",
    "En este trabajo hemos realizado un análisis exploratorio en profundidad en el que hemos podido comprobar que los valores atípicos deben ser incluidos en el dataset de análisis por ser valores correctos e importantes para la generación de información valiosa. Estos valores, siendo válidos, en algunos casos están ocasionando fallos en los motores. Dado que en conjunto se han producido un número reducido de fallos de motor se ha decidido conservar todos los valores del conjunto de datos. \n",
    "\n",
    "En el análisis de correlaciones hemos visto que no hay relaciones fuertes entre fallo motor y las distintas variables, aunque sí la hay entre algunas variables entre sí. \n",
    "\n",
    "Hemos continuado con el modelado predictivo, haciendo pruebas con 4 modelos supervisados distintos: Regresión Logística, Decisión Tree, Random Forest y Support Vector Classification (SVM). Hemos estimado la confiabilidad de los modelos mediante las pruebas de validación cruzada, accuracy, recall y F1 score. \n",
    "\n",
    "Hemos creado un df con los resultados de la precisión de cada modelo, y el **modelo Decision Tree es que sale mejor puntuado** entre ellos. Una prueba muy inportante es la **prueba recall**, que indica de todos los casos que realmente eran fallos, cuántos logró detectar correctamente el modelo. Es especialmente importante dado que se producen muy pocos fallos, y actuar sobre un motor que no presenta fallos es costoso."
   ]
  },
  {
   "cell_type": "code",
   "execution_count": 48,
   "id": "d01b524b",
   "metadata": {},
   "outputs": [
    {
     "name": "stdout",
     "output_type": "stream",
     "text": [
      "                Modelo  Accuracy_CV  Accuracy    Recall        F1\n",
      "0  Regresion_logistica     0.992190  0.992000  0.333333  0.500000\n",
      "1        Decision_tree     0.999048  0.998667  1.000000  0.947368\n",
      "2        Random_forest     0.999619  0.998667  0.888889  0.941176\n",
      "3                  SVM     0.983429  0.976000  1.000000  0.500000\n"
     ]
    }
   ],
   "source": [
    "# Vista de los resultados de los modelos\n",
    "print(df_modelos)"
   ]
  },
  {
   "cell_type": "markdown",
   "id": "e1c374d6",
   "metadata": {},
   "source": [
    "Finalmente, hemos creado un código para hacer predicciones con nuestro modelo Decision Tree, con iconos que mejoran la comprensión.\n",
    "Hemos terminado hemos hecho pruebas con valores ficticios que servirán para predecir si habrán fallos. \n",
    "\n",
    "Mediante el establecimiento de un ciclo de vida del modelo, se iría entrenando y testeando para su mejora y actualización. El modelo puede quedarse obsoleto, dadas nuevas condiciones de los motores por ejemplo. Por otra parte, con un mayor número de datos el modelo puede mejorar su capacidad de predicción.\n",
    "\n",
    "Asimismo, pueden realizarse **simulaciones**, para anticipar posibles problemas antes de que las condiciones de presenten.\n",
    "Por ejemplo, pueden simularse escenarios en los que un motor alcance ciertas condiciones de temperaturas o humedad, para actuar antes de que el fallo se presente.\n",
    "Esta simulación de escenarios también puede automatizarse y crearse alarmas ante posibles fallos, dependiendo de la criticidad del equipamiento."
   ]
  }
 ],
 "metadata": {
  "jupytext": {
   "cell_metadata_filter": "-all",
   "main_language": "python",
   "notebook_metadata_filter": "-all"
  },
  "kernelspec": {
   "display_name": "VIU_Automatizacion",
   "language": "python",
   "name": "python3"
  },
  "language_info": {
   "codemirror_mode": {
    "name": "ipython",
    "version": 3
   },
   "file_extension": ".py",
   "mimetype": "text/x-python",
   "name": "python",
   "nbconvert_exporter": "python",
   "pygments_lexer": "ipython3",
   "version": "3.12.9"
  }
 },
 "nbformat": 4,
 "nbformat_minor": 5
}
